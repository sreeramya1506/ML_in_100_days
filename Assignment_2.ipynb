{
 "cells": [
  {
   "cell_type": "markdown",
   "metadata": {},
   "source": [
    "# TASK 1"
   ]
  },
  {
   "cell_type": "markdown",
   "metadata": {},
   "source": [
    "1.1  \n",
    " \n",
    "Write a Python Program to implement your own myreduce() function which works exactly like Python's built-in function reduce() "
   ]
  },
  {
   "cell_type": "code",
   "execution_count": 7,
   "metadata": {},
   "outputs": [
    {
     "name": "stdout",
     "output_type": "stream",
     "text": [
      "Enter the length of the list:3\n",
      "Enter the 0 element of list:1\n",
      "Enter the 1 element of list:2\n",
      "Enter the 2 element of list:3\n",
      "sum=6\n"
     ]
    }
   ],
   "source": [
    "def ele_sum(val,ele):\n",
    "    x=val+ele\n",
    "    return x\n",
    "\n",
    "def myreduce(function, iterable, initializer=None):\n",
    "    it = iter(iterable)\n",
    "    if initializer is None:\n",
    "        value = next(it)\n",
    "    else:\n",
    "        value = initializer\n",
    "    for element in it:\n",
    "        value = function(value, element)\n",
    "    return value\n",
    "\n",
    "def main():\n",
    "    l=[]\n",
    "    n=int(input(\"Enter the length of the list:\"))\n",
    "    for i in range(n):\n",
    "        l.append(int(input(\"Enter the {} element of list:\".format(i))))\n",
    "    e_sum=myreduce(ele_sum,l)\n",
    "    print(f'sum={e_sum}')\n",
    "\n",
    "if __name__ == '__main__':\n",
    "    main()\n"
   ]
  },
  {
   "cell_type": "markdown",
   "metadata": {},
   "source": [
    "1.2  \n",
    " \n",
    "Write a Python program to implement your own myfilter() function which works exactly like Python's built-in function filter() "
   ]
  },
  {
   "cell_type": "code",
   "execution_count": 9,
   "metadata": {},
   "outputs": [
    {
     "name": "stdout",
     "output_type": "stream",
     "text": [
      "Enter the length of the list:5\n",
      "Enter the 0 element of list:-1\n",
      "Enter the 1 element of list:0\n",
      "Enter the 2 element of list:2\n",
      "Enter the 3 element of list:-4\n",
      "Enter the 4 element of list:5\n",
      "[0, 2, 5]\n"
     ]
    }
   ],
   "source": [
    "def positive(l):\n",
    "    if l>=0:\n",
    "        return True\n",
    "    else:\n",
    "        return False\n",
    "\n",
    "def myfilter(func,lst):\n",
    "    result = list()\n",
    "    temp = list()\n",
    "    for i in range(0,len(lst)):\n",
    "        temp.append(func(lst[i]))\n",
    "    for j in range(0,len(temp)):\n",
    "        if temp[j] == True:\n",
    "            result.append(lst[j])\n",
    "    return result\n",
    "\n",
    "def main():\n",
    "    l=[]\n",
    "    n=int(input(\"Enter the length of the list:\"))\n",
    "    for i in range(n):\n",
    "        l.append(int(input(\"Enter the {} element of list:\".format(i))))\n",
    "    pos=myfilter(positive,l)\n",
    "    print(pos)\n",
    "\n",
    "if __name__ == '__main__':\n",
    "    main()"
   ]
  },
  {
   "cell_type": "markdown",
   "metadata": {},
   "source": [
    "2.  \n",
    " \n",
    "Implement List comprehensions to produce the following lists. \n",
    " \n",
    "Write List comprehensions to produce the following Lists \n",
    " \n",
    "['A', 'C', 'A', 'D', 'G', 'I', ’L’, ‘ D’] \n",
    " \n",
    "['x', 'xx', 'xxx', 'xxxx', 'y', 'yy', 'yyy', 'yyyy', 'z', 'zz', 'zzz', 'zzzz'] \n",
    " \n",
    "['x', 'y', 'z', 'xx', 'yy', 'zz', 'xx', 'yy', 'zz', 'xxxx', 'yyyy', 'zzzz'] \n",
    " \n",
    "[[2], [3], [4], [3], [4], [5], [4], [5], [6]] \n",
    " \n",
    "[[2, 3, 4, 5], [3, 4, 5, 6], [4, 5, 6, 7], [5, 6, 7, 8]] \n",
    " \n",
    "[(1, 1), (2, 1), (3, 1), (1, 2), (2, 2), (3, 2), (1, 3), (2, 3), (3, 3)] "
   ]
  },
  {
   "cell_type": "code",
   "execution_count": 10,
   "metadata": {},
   "outputs": [
    {
     "name": "stdout",
     "output_type": "stream",
     "text": [
      "[(1, 1), (2, 1), (3, 1), (1, 2), (2, 2), (3, 2), (1, 3), (2, 3), (3, 3)]\n"
     ]
    }
   ],
   "source": [
    "x=list(zip([1,2,3,1,2,3,1,2,3],[1,1,1,2,2,2,3,3,3]))\n",
    "print(x)\n",
    "\n"
   ]
  },
  {
   "cell_type": "markdown",
   "metadata": {},
   "source": [
    "3.Implement a function longestWord() that takes a list of words and returns the longest one. "
   ]
  },
  {
   "cell_type": "code",
   "execution_count": 5,
   "metadata": {},
   "outputs": [
    {
     "name": "stdout",
     "output_type": "stream",
     "text": [
      "Enter the length of the list:3\n",
      "Enter the 0 element of list:aaaaaaaa\n",
      "Enter the 1 element of list:bbbbbbbbbbb\n",
      "Enter the 2 element of list:ccccccccccccccccccccc\n",
      "Longest Word:ccccccccccccccccccccc\n"
     ]
    }
   ],
   "source": [
    "def longestWord(l):\n",
    "    max_len=0\n",
    "    for i in l:\n",
    "        if len(i)>max_len:\n",
    "            max_len=len(i)\n",
    "            longestword=i\n",
    "    return longestword\n",
    "\n",
    "def main():\n",
    "    l=[]\n",
    "    n=int(input(\"Enter the length of the list:\"))\n",
    "    for i in range(n):\n",
    "        l.append(input(\"Enter the {} element of list:\".format(i)))\n",
    "    longestword=longestWord(l)\n",
    "    print(\"Longest Word:{}\".format(longestword))\n",
    "\n",
    "if __name__ == '__main__':\n",
    "    main()"
   ]
  },
  {
   "cell_type": "markdown",
   "metadata": {},
   "source": [
    "# Task 2"
   ]
  },
  {
   "cell_type": "markdown",
   "metadata": {},
   "source": [
    "1.1  \n",
    " \n",
    "Write a Python Program(with class concepts) to find the area of the triangle using the below formula. \n",
    " \n",
    "area = (s*(s-a)*(s-b)*(s-c)) ** 0.5 \n",
    " \n",
    "Function to take the length of the sides of triangle from user should be defined in the parent class and function to calculate the area should be defined in subclass. \n",
    " \n",
    " "
   ]
  },
  {
   "cell_type": "code",
   "execution_count": 14,
   "metadata": {},
   "outputs": [
    {
     "name": "stdout",
     "output_type": "stream",
     "text": [
      "24.206145913796355\n"
     ]
    }
   ],
   "source": [
    "class Triangle():\n",
    "    def __init__(self,a,b,c):\n",
    "            self.a=a\n",
    "            self.b=b\n",
    "            self.c=c\n",
    "    \n",
    "class Area(Triangle):\n",
    "    def area(self):\n",
    "        s=(self.a+self.b+self.c)/2\n",
    "        area=((s*(s-self.a)*(s-self.b)*(s-self.c))**0.5)\n",
    "        print(area)\n",
    "a=Area(10,10,5)\n",
    "a.area()\n",
    "    "
   ]
  },
  {
   "cell_type": "markdown",
   "metadata": {},
   "source": [
    "1.2 \n",
    " \n",
    "Write a function filter_long_words() that takes a list of words and an integer n and returns the list of words that are longer than n. "
   ]
  },
  {
   "cell_type": "code",
   "execution_count": 11,
   "metadata": {},
   "outputs": [
    {
     "name": "stdout",
     "output_type": "stream",
     "text": [
      "enter the length of the list:4\n",
      "Enter the 0 element of list:aa\n",
      "Enter the 1 element of list:aaaa\n",
      "Enter the 2 element of list:aaaaaaa\n",
      "Enter the 3 element of list:aaaaaaaaaaaaaaaaaaa\n",
      "Enter the minnimum length of the word3\n",
      "['aaaa', 'aaaaaaa', 'aaaaaaaaaaaaaaaaaaa']\n"
     ]
    }
   ],
   "source": [
    "def filter_long_words(my_list,min_len):\n",
    "    long_words=[]\n",
    "    for i in my_list:\n",
    "        if len(i)>min_len:\n",
    "            long_words.append(i)\n",
    "    \n",
    "    return long_words\n",
    "\n",
    "def main():\n",
    "    my_list=[]\n",
    "    n=int(input(\"enter the length of the list:\"))\n",
    "    for i in range(n):\n",
    "        my_list.append(input('Enter the {} element of list:'.format(i)))\n",
    "    min_len=int(input(\"Enter the minnimum length of the word:\"))\n",
    "    long_words=filter_long_words(my_list,min_len)\n",
    "    if (long_words == []):\n",
    "            print(\"Error: List does not contain words with the minimuim length:{}\".format(min_len))\n",
    "    else:\n",
    "            print(long_words)\n",
    "\n",
    "if __name__ == '__main__':\n",
    "    main()\n",
    "    \n",
    "        \n",
    "        "
   ]
  },
  {
   "cell_type": "markdown",
   "metadata": {},
   "source": [
    "2.1 \n",
    " \n",
    "Write a Python program using function concept that maps  list of words into a list of integers representing the lengths of the corresponding words​. \n",
    " \n",
    " Hint: ​If a list [ ab,cde,erty] is passed on to the python function output should come as [2,3,4] \n",
    " \n",
    " Here 2,3 and 4 are the lengths of the words in the list. "
   ]
  },
  {
   "cell_type": "code",
   "execution_count": 12,
   "metadata": {},
   "outputs": [
    {
     "name": "stdout",
     "output_type": "stream",
     "text": [
      "enter the length of the list:4\n",
      "Enter the 0 element of list:a\n",
      "Enter the 1 element of list:aa\n",
      "Enter the 2 element of list:aaa\n",
      "Enter the 3 element of list:aaaa\n",
      "[1, 2, 3, 4]\n"
     ]
    }
   ],
   "source": [
    "def map_word_length(my_list):\n",
    "    word_len=[]\n",
    "    for i in my_list:\n",
    "        word_len.append(len(i))\n",
    "    return word_len\n",
    "\n",
    "def main():\n",
    "    my_list=[]\n",
    "    n=int(input(\"enter the length of the list:\"))\n",
    "    for i in range(n):\n",
    "        my_list.append(input('Enter the {} element of list:'.format(i)))\n",
    "    word_len = map_word_length(my_list)\n",
    "    print(word_len)\n",
    "\n",
    "if __name__ == '__main__':\n",
    "    main()\n",
    "    \n",
    "    "
   ]
  },
  {
   "cell_type": "markdown",
   "metadata": {},
   "source": [
    "2.2 \n",
    " \n",
    "Write a Python function which takes a character (i.e. a string of length 1) and returns True if it is a vowel, False otherwise. "
   ]
  },
  {
   "cell_type": "code",
   "execution_count": 17,
   "metadata": {},
   "outputs": [
    {
     "name": "stdout",
     "output_type": "stream",
     "text": [
      "Enter the single Character:x\n",
      "False\n"
     ]
    }
   ],
   "source": [
    "def Vowel_check(ch):\n",
    "    vowel=['a','e','i','o','u']\n",
    "    for i in vowel:\n",
    "        if ch.isupper:\n",
    "            ch=ch.lower()\n",
    "        if i == ch:\n",
    "             return True\n",
    "        else:\n",
    "            return False\n",
    "def main():\n",
    "    ch=input(\"Enter the single Character:\")\n",
    "    out=Vowel_check(ch)\n",
    "    print(out)\n",
    "    \n",
    "if __name__ == '__main__':\n",
    "    main()\n",
    "    \n"
   ]
  },
  {
   "cell_type": "code",
   "execution_count": null,
   "metadata": {},
   "outputs": [],
   "source": []
  }
 ],
 "metadata": {
  "kernelspec": {
   "display_name": "Python 3",
   "language": "python",
   "name": "python3"
  },
  "language_info": {
   "codemirror_mode": {
    "name": "ipython",
    "version": 3
   },
   "file_extension": ".py",
   "mimetype": "text/x-python",
   "name": "python",
   "nbconvert_exporter": "python",
   "pygments_lexer": "ipython3",
   "version": "3.7.3"
  }
 },
 "nbformat": 4,
 "nbformat_minor": 2
}
