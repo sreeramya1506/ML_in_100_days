{
 "cells": [
  {
   "cell_type": "markdown",
   "metadata": {},
   "source": [
    "Q1. Write a Python program to get the string from the given string where\n",
    "all the occurrence of its first char has been changed to '$,' except first\n",
    "char itself?\n",
    "\n",
    "Sample String: 'prospect'\n",
    "\n",
    "Expected Result : 'pros$ect'"
   ]
  },
  {
   "cell_type": "code",
   "execution_count": 29,
   "metadata": {},
   "outputs": [
    {
     "name": "stdout",
     "output_type": "stream",
     "text": [
      "Enter the string:prospect\n",
      "original:prospect\n",
      "modified:pros$ect\n"
     ]
    }
   ],
   "source": [
    "import os\n",
    "def main():\n",
    "    s = input(\"Enter the string:\")\n",
    "    x=\"\".join((s[0],s[1:].replace(s[0],'$')))\n",
    "    print(\"original:{}\".format(s))\n",
    "    print(\"modified:{}\".format(x))\n",
    "\n",
    "if __name__ == '__main__':\n",
    "    main()"
   ]
  },
  {
   "cell_type": "markdown",
   "metadata": {},
   "source": [
    "Q2. Write a Python program to get the single string from the two given\n",
    "strings, and separated by the space and swap the first two characters of\n",
    "each string?\n",
    " \n",
    "\n",
    "Sample String : 'abc', 'xyz'.\n",
    "\n",
    "Expected Result: 'xyc abz'\n"
   ]
  },
  {
   "cell_type": "code",
   "execution_count": 1,
   "metadata": {},
   "outputs": [
    {
     "name": "stdout",
     "output_type": "stream",
     "text": [
      "Enter the first string:abc\n",
      "Enter the second string:xyz\n",
      "xyc abz\n"
     ]
    }
   ],
   "source": [
    "def main():\n",
    "    \n",
    "    s1=input('Enter the first string:')\n",
    "    s2=input(\"Enter the second string:\")\n",
    "    ms1=s2[:2]+s1[2:]\n",
    "    ms2=s1[:2]+s2[2:]\n",
    "    new_str= \" \".join((ms1,ms2))\n",
    "    print(new_str)\n",
    "    \n",
    "\n",
    "if __name__ == '__main__':\n",
    "    main()"
   ]
  },
  {
   "cell_type": "markdown",
   "metadata": {},
   "source": [
    "Q3. Write the Python program to add 'ing' at the end of the given string\n",
    "(length of the string should be at least 3). If given string already ends\n",
    "with 'ing,' then add 'ly' instead. If string length of the given string is less\n",
    "than 3, leave it unchanged?\n",
    "\n",
    "Sample string: ' abc '\n",
    "\n",
    "Expected result: ' abcing '\n",
    "\n",
    "Sample string: ' string '\n",
    "\n",
    "Expected result: ' stringly '"
   ]
  },
  {
   "cell_type": "code",
   "execution_count": 2,
   "metadata": {},
   "outputs": [
    {
     "name": "stdout",
     "output_type": "stream",
     "text": [
      "Enter the string:abc\n",
      "abcing\n",
      "press any key to continue or enter 'q' to exit:\n",
      "Enter the string:string\n",
      "stringly\n",
      "press any key to continue or enter 'q' to exit:as\n",
      "Enter the string:as\n",
      "as\n",
      "press any key to continue or enter 'q' to exit:q\n"
     ]
    }
   ],
   "source": [
    "def main():\n",
    "    q=True\n",
    "    while q:\n",
    "        s=input('Enter the string:')\n",
    "        if len(s)>=3:\n",
    "            if(s[-3:] == 'ing'):\n",
    "                s=\"\".join((s,'ly'))\n",
    "            else:\n",
    "                s=\"\".join((s,'ing'))\n",
    "        print(s)\n",
    "        ch=input(\"press any key to continue or enter 'q' to exit:\")\n",
    "        if ch =='q':\n",
    "            q=False\n",
    "\n",
    "if __name__ == '__main__':\n",
    "    main()"
   ]
  },
  {
   "cell_type": "markdown",
   "metadata": {},
   "source": [
    "Q5. Write the Python program to remove the characters which have odd\n",
    "index values of a given string"
   ]
  },
  {
   "cell_type": "code",
   "execution_count": 3,
   "metadata": {},
   "outputs": [
    {
     "name": "stdout",
     "output_type": "stream",
     "text": [
      "enter the string:0123456789\n",
      "Remiving the odd indexes:\n",
      "02468\n"
     ]
    }
   ],
   "source": [
    "def main():\n",
    "    s = input(\"enter the string:\")\n",
    "    print(\"Remiving the odd indexes:\")\n",
    "    print(s[::2])\n",
    "\n",
    "if __name__ == '__main__':\n",
    "    main()\n",
    "    "
   ]
  },
  {
   "cell_type": "markdown",
   "metadata": {},
   "source": [
    "Q6. Write the Python function to get a string made of 4 copies of the last\n",
    "two characters of the specified string (length must be at least 2).\n",
    "\n",
    "Sample function and result :\n",
    "\n",
    "insert-end ('Python') -> onononon\n",
    "\n",
    "insert-end('Exercises') -> eseseses"
   ]
  },
  {
   "cell_type": "code",
   "execution_count": 4,
   "metadata": {},
   "outputs": [
    {
     "name": "stdout",
     "output_type": "stream",
     "text": [
      "Enter the input  string:1234\n",
      "34343434\n"
     ]
    }
   ],
   "source": [
    "def insert_end(s):\n",
    "    \n",
    "    if len(s)>=2:\n",
    "        print(s[-2:]*4)\n",
    "    else:\n",
    "        print(\"Length of the string must be atleast 2\")\n",
    "\n",
    "def main():\n",
    "    \n",
    "    s1 = input(\"Enter the input  string:\")\n",
    "    insert_end(s1)\n",
    "    \n",
    "if __name__ == '__main__':\n",
    "    main()\n",
    "    "
   ]
  },
  {
   "cell_type": "markdown",
   "metadata": {},
   "source": [
    "Q7. Write the python function to get a string made of its first three\n",
    "characters of a specified string. If the length of the string is less than 3\n",
    "then return the original string.\n",
    "\n",
    "Sample function and result :\n",
    "\n",
    "first-three('ipy') -> ipy\n",
    "\n",
    "first-three('python') -> pyt"
   ]
  },
  {
   "cell_type": "code",
   "execution_count": 1,
   "metadata": {},
   "outputs": [
    {
     "name": "stdout",
     "output_type": "stream",
     "text": [
      "**************************************************************************\n",
      "Enter the string:python\n",
      " first three characters of a string: pyt\n",
      "***************************************************************************\n",
      "press any button to give input again or press 'q' to exit the program:\n",
      "**************************************************************************\n",
      "Enter the string:ipy\n",
      " first three characters of a string: ipy\n",
      "***************************************************************************\n",
      "press any button to give input again or press 'q' to exit the program:as\n",
      "**************************************************************************\n",
      "Enter the string:as\n",
      " string length is not met the requirements\n",
      " minimum string length is 3: \n",
      "original string:as\n",
      "***************************************************************************\n",
      "press any button to give input again or press 'q' to exit the program:q\n"
     ]
    }
   ],
   "source": [
    "def first_three(s):\n",
    "    \n",
    "    if len(s)>=3:\n",
    "        print(f\" first three characters of a string: {s[:3]}\")\n",
    "    else:\n",
    "        print(f\" string length is not met the requirements\\n minimum string length is 3: \\noriginal string:{s}\")\n",
    "\n",
    "def main():\n",
    "    \n",
    "    while (1):\n",
    "        print(\"**************************************************************************\")\n",
    "        s = input(\"Enter the string:\")\n",
    "        first_three(s)\n",
    "        print(\"***************************************************************************\")\n",
    "        ch = input(\"press any button to give input again or press 'q' to exit the program:\")\n",
    "        if(ch == 'q'):\n",
    "            break\n",
    "    \n",
    "\n",
    "if __name__ == '__main__':\n",
    "    main()"
   ]
  },
  {
   "cell_type": "code",
   "execution_count": null,
   "metadata": {},
   "outputs": [],
   "source": []
  }
 ],
 "metadata": {
  "kernelspec": {
   "display_name": "Python 3",
   "language": "python",
   "name": "python3"
  },
  "language_info": {
   "codemirror_mode": {
    "name": "ipython",
    "version": 3
   },
   "file_extension": ".py",
   "mimetype": "text/x-python",
   "name": "python",
   "nbconvert_exporter": "python",
   "pygments_lexer": "ipython3",
   "version": "3.7.3"
  }
 },
 "nbformat": 4,
 "nbformat_minor": 2
}
