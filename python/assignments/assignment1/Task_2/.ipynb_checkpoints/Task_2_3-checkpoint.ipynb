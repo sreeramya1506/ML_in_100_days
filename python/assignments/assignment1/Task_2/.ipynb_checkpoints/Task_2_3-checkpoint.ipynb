{
 "cells": [
  {
   "cell_type": "code",
   "execution_count": 1,
   "metadata": {},
   "outputs": [
    {
     "name": "stdout",
     "output_type": "stream",
     "text": [
      "Enter the word you want to reverse it:sree ramya\n",
      "aymar eers"
     ]
    }
   ],
   "source": [
    "#reverse a word after accepting the input from the user.\n",
    "\n",
    "\n",
    "def main():\n",
    "\n",
    "    word = input(\"Enter the word you want to reverse it:\")\n",
    "    for i in range(-1, -(len(word)+1),-1):\n",
    "        print(word[i],end='')\n",
    "\n",
    "\n",
    "if __name__ == \"__main__\" :\n",
    "\n",
    "    main()"
   ]
  },
  {
   "cell_type": "code",
   "execution_count": null,
   "metadata": {},
   "outputs": [],
   "source": []
  }
 ],
 "metadata": {
  "kernelspec": {
   "display_name": "Python 3",
   "language": "python",
   "name": "python3"
  },
  "language_info": {
   "codemirror_mode": {
    "name": "ipython",
    "version": 3
   },
   "file_extension": ".py",
   "mimetype": "text/x-python",
   "name": "python",
   "nbconvert_exporter": "python",
   "pygments_lexer": "ipython3",
   "version": "3.7.3"
  }
 },
 "nbformat": 4,
 "nbformat_minor": 2
}
