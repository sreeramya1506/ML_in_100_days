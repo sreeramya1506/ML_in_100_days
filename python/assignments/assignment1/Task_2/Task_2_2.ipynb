{
 "cells": [
  {
   "cell_type": "code",
   "execution_count": 1,
   "metadata": {},
   "outputs": [
    {
     "name": "stdout",
     "output_type": "stream",
     "text": [
      "Enter the n to print the required pattren:9\n",
      "*      \n",
      "**     \n",
      "***    \n",
      "****   \n",
      "*****  \n",
      "****   \n",
      "***    \n",
      "**     \n",
      "*      \n"
     ]
    }
   ],
   "source": [
    "def is_odd(n):\n",
    "    return n%2\n",
    "\n",
    "\n",
    "def main():\n",
    "\n",
    "    n =(input(\"Enter the n to print the required pattren:\"))\n",
    "    if n.isdigit() and is_odd(int(n)):\n",
    "        for i in range(int(n)):\n",
    "            for j in range(int(n)-2):\n",
    "                if (i==j or i>j)and i+j<int(n):\n",
    "                    print(\"*\",end='')\n",
    "                else:\n",
    "                    print(\" \",end='')\n",
    "\n",
    "            print('\\r')\n",
    "    else:\n",
    "        print(\"**************** You entered wrong input. Check the input you entered**************\")\n",
    "        print(\"Conditions to supply input:\"\n",
    "              \"\\n 1. It should be digit\"\n",
    "              \"\\n 2. It should be an odd number\")\n",
    "\n",
    "if __name__ == \"__main__\":\n",
    "\n",
    "    main()\n",
    "\n"
   ]
  },
  {
   "cell_type": "code",
   "execution_count": null,
   "metadata": {},
   "outputs": [],
   "source": []
  },
  {
   "cell_type": "code",
   "execution_count": null,
   "metadata": {},
   "outputs": [],
   "source": []
  }
 ],
 "metadata": {
  "kernelspec": {
   "display_name": "Python 3",
   "language": "python",
   "name": "python3"
  },
  "language_info": {
   "codemirror_mode": {
    "name": "ipython",
    "version": 3
   },
   "file_extension": ".py",
   "mimetype": "text/x-python",
   "name": "python",
   "nbconvert_exporter": "python",
   "pygments_lexer": "ipython3",
   "version": "3.7.3"
  }
 },
 "nbformat": 4,
 "nbformat_minor": 2
}
