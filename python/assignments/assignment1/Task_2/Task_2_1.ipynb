{
 "cells": [
  {
   "cell_type": "code",
   "execution_count": 2,
   "metadata": {},
   "outputs": [
    {
     "name": "stdout",
     "output_type": "stream",
     "text": [
      "Enter the comma separated values:1,3,4,6,8\n",
      "['1', '3', '4', '6', '8']\n"
     ]
    }
   ],
   "source": [
    "# program which accepts a sequence of comma-separated numbers from console and generate a list.\n",
    "\n",
    "\n",
    "def main():\n",
    "\n",
    "    num = input(\"Enter the comma separated values:\")\n",
    "    gen_list = num.split(',')\n",
    "    print(gen_list)\n",
    "\n",
    "\n",
    "if __name__ == \"__main__\":\n",
    "\n",
    "    main()\n"
   ]
  },
  {
   "cell_type": "code",
   "execution_count": null,
   "metadata": {},
   "outputs": [],
   "source": []
  }
 ],
 "metadata": {
  "kernelspec": {
   "display_name": "Python 3",
   "language": "python",
   "name": "python3"
  },
  "language_info": {
   "codemirror_mode": {
    "name": "ipython",
    "version": 3
   },
   "file_extension": ".py",
   "mimetype": "text/x-python",
   "name": "python",
   "nbconvert_exporter": "python",
   "pygments_lexer": "ipython3",
   "version": "3.7.3"
  }
 },
 "nbformat": 4,
 "nbformat_minor": 2
}
