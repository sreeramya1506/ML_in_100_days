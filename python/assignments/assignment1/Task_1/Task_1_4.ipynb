{
 "cells": [
  {
   "cell_type": "code",
   "execution_count": 2,
   "metadata": {},
   "outputs": [
    {
     "name": "stdout",
     "output_type": "stream",
     "text": [
      "Enter the diameter of Sphere in cm:14\n",
      "Volume of the sphere : 1436.0266666666666\n"
     ]
    }
   ],
   "source": [
    "# finding the volume of sphere with diameter 12cm\n",
    "PI = 3.14\n",
    "\n",
    "\n",
    "def vol_sphere(d):\n",
    "\n",
    "    r = d/2\n",
    "    return 4/3 * PI * r ** 3\n",
    "\n",
    "\n",
    "def main():\n",
    "\n",
    "    d = int(input(\"Enter the diameter of Sphere in cm:\"))      # d= 12 cm\n",
    "    v = vol_sphere(d)\n",
    "    print(f'Volume of the sphere : {v}')      # V in cm x cm x cm ( 4/3 x pi x r^3)\n",
    "\n",
    "\n",
    "if __name__ == '__main__':\n",
    "    main()\n"
   ]
  },
  {
   "cell_type": "code",
   "execution_count": null,
   "metadata": {},
   "outputs": [],
   "source": []
  }
 ],
 "metadata": {
  "kernelspec": {
   "display_name": "Python 3",
   "language": "python",
   "name": "python3"
  },
  "language_info": {
   "codemirror_mode": {
    "name": "ipython",
    "version": 3
   },
   "file_extension": ".py",
   "mimetype": "text/x-python",
   "name": "python",
   "nbconvert_exporter": "python",
   "pygments_lexer": "ipython3",
   "version": "3.7.3"
  }
 },
 "nbformat": 4,
 "nbformat_minor": 2
}
