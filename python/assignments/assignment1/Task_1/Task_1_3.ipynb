{
 "cells": [
  {
   "cell_type": "code",
   "execution_count": 1,
   "metadata": {},
   "outputs": [
    {
     "name": "stdout",
     "output_type": "stream",
     "text": [
      "Enter the first name :sree\n",
      "Enter the last name :ramya\n",
      "sree ramya\n",
      "After reverse the first and last name is:\n",
      "ramya sree\n"
     ]
    }
   ],
   "source": [
    "# reverse the first name and last name and seperate with space\n",
    "\n",
    "\n",
    "def main():\n",
    "\n",
    "    fname = input(\"Enter the first name :\")\n",
    "    lname = input(\"Enter the last name :\")\n",
    "\n",
    "    print(fname + \" \" + lname)\n",
    "    print(\"After reverse the first and last name is:\")\n",
    "    print(lname + \" \" + fname)\n",
    "\n",
    "\n",
    "if __name__ == '__main__':\n",
    "\n",
    "    main()\n"
   ]
  },
  {
   "cell_type": "code",
   "execution_count": null,
   "metadata": {},
   "outputs": [],
   "source": []
  }
 ],
 "metadata": {
  "kernelspec": {
   "display_name": "Python 3",
   "language": "python",
   "name": "python3"
  },
  "language_info": {
   "codemirror_mode": {
    "name": "ipython",
    "version": 3
   },
   "file_extension": ".py",
   "mimetype": "text/x-python",
   "name": "python",
   "nbconvert_exporter": "python",
   "pygments_lexer": "ipython3",
   "version": "3.7.3"
  }
 },
 "nbformat": 4,
 "nbformat_minor": 2
}
