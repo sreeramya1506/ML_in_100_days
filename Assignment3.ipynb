{
 "cells": [
  {
   "cell_type": "markdown",
   "metadata": {},
   "source": [
    "1.\n",
    "Write a function to compute 5/0 and use try/except to catch the exceptions.\n"
   ]
  },
  {
   "cell_type": "code",
   "execution_count": 1,
   "metadata": {},
   "outputs": [
    {
     "name": "stdout",
     "output_type": "stream",
     "text": [
      "Enter a:5\n",
      "Enter b:0\n",
      "division by zero <class 'ZeroDivisionError'>\n",
      "None\n"
     ]
    }
   ],
   "source": [
    "def divide(a,b):\n",
    "    \n",
    "    try:\n",
    "        c=a/b\n",
    "        return c\n",
    "    except Exception as e:\n",
    "        print(e,type(e))\n",
    "        \n",
    "def main():\n",
    "    try:\n",
    "        a=int(input(\"Enter a:\"))\n",
    "        b=int(input(\"Enter b:\"))\n",
    "        c=divide(a,b)\n",
    "        print(c)\n",
    "    except Exception as e:\n",
    "        print(e,type(e))\n",
    "        \n",
    "if __name__ == '__main__':\n",
    "    main()"
   ]
  },
  {
   "cell_type": "markdown",
   "metadata": {},
   "source": [
    "2.\n",
    "Implement a Python program to generate all sentences where subject is in [\"Americans\",\n",
    "\n",
    "\"Indians\"] and verb is in [\"Play\", \"watch\"] and the object is in [\"Baseball\",\"cricket\"].\n",
    "\n",
    "Hint: Subject,Verb and Object should be declared in the program as shown below.\n",
    "\n",
    "subjects=[\"Americans \",\"Indians\"]\n",
    "\n",
    "verbs=[\"play\",\"watch\"]\n",
    "\n",
    "objects=[\"Baseball\",\"Cricket\"]\n",
    "\n",
    "Output should come as below:\n",
    "\n",
    "Americans play Baseball.\n",
    "\n",
    "Americans play Cricket.\n",
    "\n",
    "Americans watch Baseball.\n",
    "\n",
    "Americans watch Cricket.\n",
    "\n",
    "Indians play Baseball.\n",
    "\n",
    "Indians play Cricket.\n",
    "\n",
    "Indians watch Baseball.\n",
    "\n",
    "Indians watch Cricket."
   ]
  },
  {
   "cell_type": "code",
   "execution_count": 2,
   "metadata": {},
   "outputs": [
    {
     "name": "stdout",
     "output_type": "stream",
     "text": [
      "Americans  play Baseball\n",
      "Americans  play Cricket\n",
      "Americans  watch Baseball\n",
      "Americans  watch Cricket\n",
      "Indians play Baseball\n",
      "Indians play Cricket\n",
      "Indians watch Baseball\n",
      "Indians watch Cricket\n"
     ]
    }
   ],
   "source": [
    "subjects=[\"Americans \",\"Indians\"]\n",
    "\n",
    "verbs=[\"play\",\"watch\"]\n",
    "\n",
    "objects=[\"Baseball\",\"Cricket\"]\n",
    "\n",
    "for sub in subjects:\n",
    "    for verb in verbs:\n",
    "        for obj in objects:\n",
    "            print( sub +\" \"+verb+\" \"+obj)"
   ]
  },
  {
   "cell_type": "markdown",
   "metadata": {},
   "source": [
    "## Task 2:\n",
    "1.\n",
    "Write a function so that the columns of the output matrix are powers of the input vector.\n",
    "\n",
    "The order of the powers is determined by the increasing boolean argument. Specifically, when\n",
    "increasing is False, the i-th output column is the input vector raised element-wise to the power\n",
    "of N - i - 1.\n",
    "HINT: Such a matrix with a geometric progression in each row is named for AlexandreTheophile Vandermonde."
   ]
  },
  {
   "cell_type": "code",
   "execution_count": 4,
   "metadata": {},
   "outputs": [
    {
     "name": "stdout",
     "output_type": "stream",
     "text": [
      "Enter the array size:4\n",
      "Enter the 0 element :1\n",
      "Enter the 1 element :2\n",
      "Enter the 2 element :3\n",
      "Enter the 3 element :4\n",
      "Enter the no of columns of output matrix:5\n",
      "[[  1   1   1   1   1]\n",
      " [  1   2   4   8  16]\n",
      " [  1   3   9  27  81]\n",
      " [  1   4  16  64 256]]\n"
     ]
    }
   ],
   "source": [
    "import numpy as np\n",
    "def OutputMatrix(I,N,bool=False):\n",
    "    out=[]\n",
    "    if bool==True:\n",
    "        for j in range(N):\n",
    "            out.append([(v**j)for v in I])\n",
    "                \n",
    "    else:\n",
    "        for j in range(N-1,-1,-1):\n",
    "            out.append([(v**j)for v in I])\n",
    "                \n",
    "    out_matrix = np.array(out)\n",
    "    out_matrix=np.transpose(out_matrix)\n",
    "             \n",
    "    return out_matrix\n",
    "def main():\n",
    "    \n",
    "    try:\n",
    "        l=[]\n",
    "        n=int(input(\"Enter the array size:\"))\n",
    "        for i in range(n):\n",
    "            l.append(int(input(\"Enter the {} element :\".format(i))))\n",
    "        Input=np.array(l)\n",
    "        if Input.ndim!=1:\n",
    "                raise ValueError(\"Input must be a one-dimensional array or sequence.\")\n",
    "        \n",
    "    except Exception as e:\n",
    "        print(e,type(e))\n",
    "    try:\n",
    "        N=int(input('Enter the no of columns of output matrix:'))\n",
    "        if N==None:\n",
    "                N=len(Input)\n",
    "    except Exception as e:\n",
    "            print(e,type(e))\n",
    "    \n",
    "    print(OutputMatrix(Input,N,True))\n",
    "    \n",
    "    \n",
    "if __name__ == '__main__':\n",
    "    main()\n",
    "    \n",
    "\n",
    "    \n",
    "\n",
    "    \n",
    "        \n",
    "        \n",
    "    "
   ]
  },
  {
   "cell_type": "code",
   "execution_count": null,
   "metadata": {},
   "outputs": [],
   "source": []
  },
  {
   "cell_type": "code",
   "execution_count": null,
   "metadata": {},
   "outputs": [],
   "source": []
  }
 ],
 "metadata": {
  "kernelspec": {
   "display_name": "Python 3",
   "language": "python",
   "name": "python3"
  },
  "language_info": {
   "codemirror_mode": {
    "name": "ipython",
    "version": 3
   },
   "file_extension": ".py",
   "mimetype": "text/x-python",
   "name": "python",
   "nbconvert_exporter": "python",
   "pygments_lexer": "ipython3",
   "version": "3.7.3"
  }
 },
 "nbformat": 4,
 "nbformat_minor": 2
}
